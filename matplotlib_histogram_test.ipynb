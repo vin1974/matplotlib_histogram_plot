{
  "nbformat": 4,
  "nbformat_minor": 0,
  "metadata": {
    "colab": {
      "name": "matplotlib_histogram_test.ipynb",
      "provenance": [],
      "authorship_tag": "ABX9TyNlVMvIGNgjVcGRJVgJyjER",
      "include_colab_link": true
    },
    "kernelspec": {
      "name": "python3",
      "display_name": "Python 3"
    },
    "language_info": {
      "name": "python"
    }
  },
  "cells": [
    {
      "cell_type": "markdown",
      "metadata": {
        "id": "view-in-github",
        "colab_type": "text"
      },
      "source": [
        "<a href=\"https://colab.research.google.com/github/vin1974/matplotlib_histogram_plot/blob/main/matplotlib_histogram_test.ipynb\" target=\"_parent\"><img src=\"https://colab.research.google.com/assets/colab-badge.svg\" alt=\"Open In Colab\"/></a>"
      ]
    },
    {
      "cell_type": "code",
      "metadata": {
        "id": "F1Z8rEgaPIMI"
      },
      "source": [
        "import os\n",
        "import numpy as np\n",
        "import pandas as pd\n",
        "import matplotlib.pyplot as plt"
      ],
      "execution_count": null,
      "outputs": []
    },
    {
      "cell_type": "code",
      "metadata": {
        "colab": {
          "base_uri": "https://localhost:8080/"
        },
        "id": "xxN9xe4APPsp",
        "outputId": "1f3a0b56-f564-4391-9130-db3233026844"
      },
      "source": [
        "if not os.path.exists('data.csv'):\n",
        "  !wget https://raw.githubusercontent.com/CoreyMSchafer/code_snippets/master/Python/Matplotlib/06-Histograms/data.csv"
      ],
      "execution_count": null,
      "outputs": [
        {
          "output_type": "stream",
          "name": "stdout",
          "text": [
            "--2021-10-22 13:43:02--  https://raw.githubusercontent.com/CoreyMSchafer/code_snippets/master/Python/Matplotlib/06-Histograms/data.csv\n",
            "Resolving raw.githubusercontent.com (raw.githubusercontent.com)... 185.199.110.133, 185.199.108.133, 185.199.111.133, ...\n",
            "Connecting to raw.githubusercontent.com (raw.githubusercontent.com)|185.199.110.133|:443... connected.\n",
            "HTTP request sent, awaiting response... 200 OK\n",
            "Length: 782153 (764K) [text/plain]\n",
            "Saving to: ‘data.csv’\n",
            "\n",
            "\rdata.csv              0%[                    ]       0  --.-KB/s               \rdata.csv            100%[===================>] 763.82K  --.-KB/s    in 0.007s  \n",
            "\n",
            "2021-10-22 13:43:02 (114 MB/s) - ‘data.csv’ saved [782153/782153]\n",
            "\n"
          ]
        }
      ]
    },
    {
      "cell_type": "code",
      "metadata": {
        "id": "CgDQfeCxPZ4A"
      },
      "source": [
        "plt.style.use('fivethirtyeight')"
      ],
      "execution_count": null,
      "outputs": []
    },
    {
      "cell_type": "code",
      "metadata": {
        "id": "FD1lY7KAPifd"
      },
      "source": [
        "ages = [18, 19, 21, 25, 26, 26, 30, 32, 38, 45, 55]\n",
        "# bins = [10, 20, 30, 40, 50, 60]"
      ],
      "execution_count": null,
      "outputs": []
    },
    {
      "cell_type": "code",
      "metadata": {
        "id": "KxyTdJB6SLBu"
      },
      "source": [
        "bins = [i*10 for i in range(1,11)]"
      ],
      "execution_count": null,
      "outputs": []
    },
    {
      "cell_type": "code",
      "metadata": {
        "colab": {
          "base_uri": "https://localhost:8080/"
        },
        "id": "QIDGzbuLRQMk",
        "outputId": "2ddeed89-d7d7-4f89-adef-93807aa57cff"
      },
      "source": [
        "bins"
      ],
      "execution_count": null,
      "outputs": [
        {
          "output_type": "execute_result",
          "data": {
            "text/plain": [
              "[10, 20, 30, 40, 50, 60]"
            ]
          },
          "metadata": {},
          "execution_count": 13
        }
      ]
    },
    {
      "cell_type": "code",
      "metadata": {
        "colab": {
          "base_uri": "https://localhost:8080/",
          "height": 331
        },
        "id": "XHWJEeUFPnlf",
        "outputId": "93449155-4fb3-4de2-c81e-0ac25d76fb38"
      },
      "source": [
        "plt.hist(ages, bins=bins, edgecolor='black')"
      ],
      "execution_count": null,
      "outputs": [
        {
          "output_type": "execute_result",
          "data": {
            "text/plain": [
              "(array([2., 4., 3., 1., 1.]),\n",
              " array([10, 20, 30, 40, 50, 60]),\n",
              " <a list of 5 Patch objects>)"
            ]
          },
          "metadata": {},
          "execution_count": 12
        },
        {
          "output_type": "display_data",
          "data": {
            "image/png": "[encoded data removed]",
            "text/plain": [
              "<Figure size 432x288 with 1 Axes>"
            ]
          },
          "metadata": {}
        }
      ]
    },
    {
      "cell_type": "code",
      "metadata": {
        "id": "pP0spLL-Pp_V"
      },
      "source": [
        "data = pd.read_csv('data.csv')"
      ],
      "execution_count": null,
      "outputs": []
    },
    {
      "cell_type": "code",
      "metadata": {
        "id": "rUZ8vhBSPqCh"
      },
      "source": [
        "ids = data['Responder_id']\n",
        "ages = data['Age']"
      ],
      "execution_count": null,
      "outputs": []
    },
    {
      "cell_type": "code",
      "metadata": {
        "colab": {
          "base_uri": "https://localhost:8080/",
          "height": 288
        },
        "id": "L5Pkx90uPqFH",
        "outputId": "52c05707-09f2-44c9-fadc-84a3d4c1652b"
      },
      "source": [
        "plt.hist(ages, bins=bins, edgecolor='black')\n",
        "plt.title('Ages of Respondents')\n",
        "plt.xlabel('Ages')\n",
        "plt.tight_layout()\n",
        "plt.show()"
      ],
      "execution_count": null,
      "outputs": [
        {
          "output_type": "display_data",
          "data": {
            "image/png": "[encoded data removed]",
            "text/plain": [
              "<Figure size 432x288 with 1 Axes>"
            ]
          },
          "metadata": {}
        }
      ]
    },
    {
      "cell_type": "markdown",
      "metadata": {
        "id": "u67QeSjJStPn"
      },
      "source": [
        "###log=True"
      ]
    },
    {
      "cell_type": "code",
      "metadata": {
        "colab": {
          "base_uri": "https://localhost:8080/",
          "height": 288
        },
        "id": "ovrNBsbLPqID",
        "outputId": "02cc46f9-9e94-43ae-c46b-d304904a1147"
      },
      "source": [
        "plt.hist(ages, bins=bins, edgecolor='black', log=True)\n",
        "plt.title('Ages of Respondents')\n",
        "plt.xlabel('Ages')\n",
        "plt.tight_layout()\n",
        "plt.show()"
      ],
      "execution_count": null,
      "outputs": [
        {
          "output_type": "display_data",
          "data": {
            "image/png": "[encoded data removed]",
            "text/plain": [
              "<Figure size 432x288 with 1 Axes>"
            ]
          },
          "metadata": {}
        }
      ]
    },
    {
      "cell_type": "markdown",
      "metadata": {
        "id": "L8_IHgXtTCWf"
      },
      "source": [
        "###Median Age"
      ]
    },
    {
      "cell_type": "code",
      "metadata": {
        "id": "LzBGk-pkSpEK"
      },
      "source": [
        "median_age = 29\n",
        "color = '#fc4f30'"
      ],
      "execution_count": null,
      "outputs": []
    },
    {
      "cell_type": "code",
      "metadata": {
        "colab": {
          "base_uri": "https://localhost:8080/",
          "height": 288
        },
        "id": "qT0RxVdkSpHt",
        "outputId": "b1b7059c-92dc-48e2-e2cc-f55981819472"
      },
      "source": [
        "plt.axvline(median_age, color=color, label='Age Median')\n",
        "plt.hist(ages, bins=bins, edgecolor='black', log=True)\n",
        "plt.title('Ages of Respondents')\n",
        "plt.xlabel('Ages')\n",
        "plt.tight_layout()\n",
        "plt.show()"
      ],
      "execution_count": null,
      "outputs": [
        {
          "output_type": "display_data",
          "data": {
            "image/png": "[encoded data removed]",
            "text/plain": [
              "<Figure size 432x288 with 1 Axes>"
            ]
          },
          "metadata": {}
        }
      ]
    },
    {
      "cell_type": "code",
      "metadata": {
        "id": "sSlhausdTL7J"
      },
      "source": [
        ""
      ],
      "execution_count": null,
      "outputs": []
    },
    {
      "cell_type": "code",
      "metadata": {
        "id": "5n3ZADJ8TL-G"
      },
      "source": [
        ""
      ],
      "execution_count": null,
      "outputs": []
    },
    {
      "cell_type": "code",
      "metadata": {
        "id": "Siw3izJ0TMBd"
      },
      "source": [
        ""
      ],
      "execution_count": null,
      "outputs": []
    },
    {
      "cell_type": "code",
      "metadata": {
        "id": "5uwH3gM2P_MF"
      },
      "source": [
        ""
      ],
      "execution_count": null,
      "outputs": []
    }
  ]
}